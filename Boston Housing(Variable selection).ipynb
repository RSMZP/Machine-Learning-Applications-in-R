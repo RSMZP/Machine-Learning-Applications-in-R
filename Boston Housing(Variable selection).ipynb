{
 "cells": [
  {
   "cell_type": "markdown",
   "metadata": {
    "colab_type": "text",
    "id": "DgKs16_mcc8a"
   },
  
  {
   "cell_type": "markdown",
   "metadata": {
    "colab_type": "text",
    "id": "lesMZc9vd9Oj"
   },
   "source": [
    "### Step 1: Load and install the relevant packages"
   ]
  },
  {
   "cell_type": "code",
   "execution_count": 12,
   "metadata": {
    "colab": {},
    "colab_type": "code",
    "id": "KRx4ZaAQcLTu"
   },
   "outputs": [
    {
     "name": "stderr",
     "output_type": "stream",
     "text": [
      "\n",
      "Attaching package: ‘dplyr’\n",
      "\n",
      "\n",
      "The following objects are masked from ‘package:stats’:\n",
      "\n",
      "    filter, lag\n",
      "\n",
      "\n",
      "The following objects are masked from ‘package:base’:\n",
      "\n",
      "    intersect, setdiff, setequal, union\n",
      "\n",
      "\n",
      "Warning message in system(\"timedatectl\", intern = TRUE):\n",
      "“running command 'timedatectl' had status 1”\n",
      "── \u001b[1mAttaching packages\u001b[22m ─────────────────────────────────────── tidyverse 1.3.0 ──\n",
      "\n",
      "\u001b[32m✔\u001b[39m \u001b[34mggplot2\u001b[39m 3.3.0     \u001b[32m✔\u001b[39m \u001b[34mpurrr  \u001b[39m 0.3.4\n",
      "\u001b[32m✔\u001b[39m \u001b[34mtibble \u001b[39m 3.1.2     \u001b[32m✔\u001b[39m \u001b[34mstringr\u001b[39m 1.4.0\n",
      "\u001b[32m✔\u001b[39m \u001b[34mtidyr  \u001b[39m 1.1.3     \u001b[32m✔\u001b[39m \u001b[34mforcats\u001b[39m 0.5.1\n",
      "\u001b[32m✔\u001b[39m \u001b[34mreadr  \u001b[39m 1.4.0     \n",
      "\n",
      "── \u001b[1mConflicts\u001b[22m ────────────────────────────────────────── tidyverse_conflicts() ──\n",
      "\u001b[31m✖\u001b[39m \u001b[34mdplyr\u001b[39m::\u001b[32mfilter()\u001b[39m masks \u001b[34mstats\u001b[39m::filter()\n",
      "\u001b[31m✖\u001b[39m \u001b[34mdplyr\u001b[39m::\u001b[32mlag()\u001b[39m    masks \u001b[34mstats\u001b[39m::lag()\n",
      "\n",
      "Loading required package: lattice\n",
      "\n",
      "\n",
      "Attaching package: ‘caret’\n",
      "\n",
      "\n",
      "The following object is masked from ‘package:purrr’:\n",
      "\n",
      "    lift\n",
      "\n",
      "\n"
     ]
    }
   ],
   "source": [
    "library(ISLR)\n",
    "library(leaps)\n",
    "library(dplyr)\n",
    "library(tidyverse)\n",
    "library(caret)"
   ]
  },
  {
   "cell_type": "markdown",
   "metadata": {
    "colab_type": "text",
    "id": "hrCaIm1ze8Db"
   },
   "source": [
    "### Step 2: Load and prepare the data"
   ]
  },
  {
   "cell_type": "code",
   "execution_count": 15,
   "metadata": {
    "colab": {},
    "colab_type": "code",
    "id": "jCSeN_svbE21",
    "outputId": "2189eb0a-50c7-4fe8-92e3-e5bab13432ac"
   },
   "outputs": [
    {
     "name": "stdout",
     "output_type": "stream",
     "text": [
      "'data.frame':\t506 obs. of  13 variables:\n",
      " $ crim   : num  0.00632 0.02731 0.02729 0.03237 0.06905 ...\n",
      " $ zn     : num  18 0 0 0 0 0 12.5 12.5 12.5 12.5 ...\n",
      " $ indus  : num  2.31 7.07 7.07 2.18 2.18 2.18 7.87 7.87 7.87 7.87 ...\n",
      " $ chas   : int  0 0 0 0 0 0 0 0 0 0 ...\n",
      " $ nox    : num  0.538 0.469 0.469 0.458 0.458 0.458 0.524 0.524 0.524 0.524 ...\n",
      " $ rm     : num  6.58 6.42 7.18 7 7.15 ...\n",
      " $ age    : num  65.2 78.9 61.1 45.8 54.2 58.7 66.6 96.1 100 85.9 ...\n",
      " $ dis    : num  4.09 4.97 4.97 6.06 6.06 ...\n",
      " $ rad    : int  1 2 2 3 3 3 5 5 5 5 ...\n",
      " $ tax    : int  296 242 242 222 222 222 311 311 311 311 ...\n",
      " $ ptratio: num  15.3 17.8 17.8 18.7 18.7 18.7 15.2 15.2 15.2 15.2 ...\n",
      " $ lstat  : num  4.98 9.14 4.03 2.94 5.33 ...\n",
      " $ medv   : num  24 21.6 34.7 33.4 36.2 28.7 22.9 27.1 16.5 18.9 ...\n"
     ]
    },
    {
     "data": {
      "text/html": [
       "<table class=\"dataframe\">\n",
       "<caption>A data.frame: 6 × 13</caption>\n",
       "<thead>\n",
       "\t<tr><th></th><th scope=col>crim</th><th scope=col>zn</th><th scope=col>indus</th><th scope=col>chas</th><th scope=col>nox</th><th scope=col>rm</th><th scope=col>age</th><th scope=col>dis</th><th scope=col>rad</th><th scope=col>tax</th><th scope=col>ptratio</th><th scope=col>lstat</th><th scope=col>medv</th></tr>\n",
       "\t<tr><th></th><th scope=col>&lt;dbl&gt;</th><th scope=col>&lt;dbl&gt;</th><th scope=col>&lt;dbl&gt;</th><th scope=col>&lt;int&gt;</th><th scope=col>&lt;dbl&gt;</th><th scope=col>&lt;dbl&gt;</th><th scope=col>&lt;dbl&gt;</th><th scope=col>&lt;dbl&gt;</th><th scope=col>&lt;int&gt;</th><th scope=col>&lt;int&gt;</th><th scope=col>&lt;dbl&gt;</th><th scope=col>&lt;dbl&gt;</th><th scope=col>&lt;dbl&gt;</th></tr>\n",
       "</thead>\n",
       "<tbody>\n",
       "\t<tr><th scope=row>1</th><td>0.00632</td><td>18</td><td>2.31</td><td>0</td><td>0.538</td><td>6.575</td><td>65.2</td><td>4.0900</td><td>1</td><td>296</td><td>15.3</td><td>4.98</td><td>24.0</td></tr>\n",
       "\t<tr><th scope=row>2</th><td>0.02731</td><td> 0</td><td>7.07</td><td>0</td><td>0.469</td><td>6.421</td><td>78.9</td><td>4.9671</td><td>2</td><td>242</td><td>17.8</td><td>9.14</td><td>21.6</td></tr>\n",
       "\t<tr><th scope=row>3</th><td>0.02729</td><td> 0</td><td>7.07</td><td>0</td><td>0.469</td><td>7.185</td><td>61.1</td><td>4.9671</td><td>2</td><td>242</td><td>17.8</td><td>4.03</td><td>34.7</td></tr>\n",
       "\t<tr><th scope=row>4</th><td>0.03237</td><td> 0</td><td>2.18</td><td>0</td><td>0.458</td><td>6.998</td><td>45.8</td><td>6.0622</td><td>3</td><td>222</td><td>18.7</td><td>2.94</td><td>33.4</td></tr>\n",
       "\t<tr><th scope=row>5</th><td>0.06905</td><td> 0</td><td>2.18</td><td>0</td><td>0.458</td><td>7.147</td><td>54.2</td><td>6.0622</td><td>3</td><td>222</td><td>18.7</td><td>5.33</td><td>36.2</td></tr>\n",
       "\t<tr><th scope=row>6</th><td>0.02985</td><td> 0</td><td>2.18</td><td>0</td><td>0.458</td><td>6.430</td><td>58.7</td><td>6.0622</td><td>3</td><td>222</td><td>18.7</td><td>5.21</td><td>28.7</td></tr>\n",
       "</tbody>\n",
       "</table>\n"
      ],
      "text/latex": [
       "A data.frame: 6 × 13\n",
       "\\begin{tabular}{r|lllllllllllll}\n",
       "  & crim & zn & indus & chas & nox & rm & age & dis & rad & tax & ptratio & lstat & medv\\\\\n",
       "  & <dbl> & <dbl> & <dbl> & <int> & <dbl> & <dbl> & <dbl> & <dbl> & <int> & <int> & <dbl> & <dbl> & <dbl>\\\\\n",
       "\\hline\n",
       "\t1 & 0.00632 & 18 & 2.31 & 0 & 0.538 & 6.575 & 65.2 & 4.0900 & 1 & 296 & 15.3 & 4.98 & 24.0\\\\\n",
       "\t2 & 0.02731 &  0 & 7.07 & 0 & 0.469 & 6.421 & 78.9 & 4.9671 & 2 & 242 & 17.8 & 9.14 & 21.6\\\\\n",
       "\t3 & 0.02729 &  0 & 7.07 & 0 & 0.469 & 7.185 & 61.1 & 4.9671 & 2 & 242 & 17.8 & 4.03 & 34.7\\\\\n",
       "\t4 & 0.03237 &  0 & 2.18 & 0 & 0.458 & 6.998 & 45.8 & 6.0622 & 3 & 222 & 18.7 & 2.94 & 33.4\\\\\n",
       "\t5 & 0.06905 &  0 & 2.18 & 0 & 0.458 & 7.147 & 54.2 & 6.0622 & 3 & 222 & 18.7 & 5.33 & 36.2\\\\\n",
       "\t6 & 0.02985 &  0 & 2.18 & 0 & 0.458 & 6.430 & 58.7 & 6.0622 & 3 & 222 & 18.7 & 5.21 & 28.7\\\\\n",
       "\\end{tabular}\n"
      ],
      "text/markdown": [
       "\n",
       "A data.frame: 6 × 13\n",
       "\n",
       "| <!--/--> | crim &lt;dbl&gt; | zn &lt;dbl&gt; | indus &lt;dbl&gt; | chas &lt;int&gt; | nox &lt;dbl&gt; | rm &lt;dbl&gt; | age &lt;dbl&gt; | dis &lt;dbl&gt; | rad &lt;int&gt; | tax &lt;int&gt; | ptratio &lt;dbl&gt; | lstat &lt;dbl&gt; | medv &lt;dbl&gt; |\n",
       "|---|---|---|---|---|---|---|---|---|---|---|---|---|---|\n",
       "| 1 | 0.00632 | 18 | 2.31 | 0 | 0.538 | 6.575 | 65.2 | 4.0900 | 1 | 296 | 15.3 | 4.98 | 24.0 |\n",
       "| 2 | 0.02731 |  0 | 7.07 | 0 | 0.469 | 6.421 | 78.9 | 4.9671 | 2 | 242 | 17.8 | 9.14 | 21.6 |\n",
       "| 3 | 0.02729 |  0 | 7.07 | 0 | 0.469 | 7.185 | 61.1 | 4.9671 | 2 | 242 | 17.8 | 4.03 | 34.7 |\n",
       "| 4 | 0.03237 |  0 | 2.18 | 0 | 0.458 | 6.998 | 45.8 | 6.0622 | 3 | 222 | 18.7 | 2.94 | 33.4 |\n",
       "| 5 | 0.06905 |  0 | 2.18 | 0 | 0.458 | 7.147 | 54.2 | 6.0622 | 3 | 222 | 18.7 | 5.33 | 36.2 |\n",
       "| 6 | 0.02985 |  0 | 2.18 | 0 | 0.458 | 6.430 | 58.7 | 6.0622 | 3 | 222 | 18.7 | 5.21 | 28.7 |\n",
       "\n"
      ],
      "text/plain": [
       "  crim    zn indus chas nox   rm    age  dis    rad tax ptratio lstat medv\n",
       "1 0.00632 18 2.31  0    0.538 6.575 65.2 4.0900 1   296 15.3    4.98  24.0\n",
       "2 0.02731  0 7.07  0    0.469 6.421 78.9 4.9671 2   242 17.8    9.14  21.6\n",
       "3 0.02729  0 7.07  0    0.469 7.185 61.1 4.9671 2   242 17.8    4.03  34.7\n",
       "4 0.03237  0 2.18  0    0.458 6.998 45.8 6.0622 3   222 18.7    2.94  33.4\n",
       "5 0.06905  0 2.18  0    0.458 7.147 54.2 6.0622 3   222 18.7    5.33  36.2\n",
       "6 0.02985  0 2.18  0    0.458 6.430 58.7 6.0622 3   222 18.7    5.21  28.7"
      ]
     },
     "metadata": {},
     "output_type": "display_data"
    }
   ],
   "source": [
    "# Load the data\n",
    "house <- read.csv(\"BostonHousing.csv\")\n",
    "\n",
    "# Review summary of the data set\n",
    "str(house)\n",
    "\n",
    "# Display the head of the data set\n",
    "head(house)"
   ]
  },
  {
   "cell_type": "markdown",
   "metadata": {
    "colab_type": "text",
    "id": "xW_livSxyUPf"
   },
   "source": [
    "The data is now ready to be used for variable selection."
   ]
  },
  {
   "cell_type": "markdown",
   "metadata": {
    "colab_type": "text",
    "id": "TH3lKxeZyWig"
   },
   "source": [
    "### Step 3: Execute variable selection"
   ]
  },
  {
   "cell_type": "markdown",
   "metadata": {
    "colab_type": "text",
    "id": "4xjDog-xhxax"
   },
   "source": [
    "#### Section A: Best subset selection"
   ]
  },
  {
   "cell_type": "markdown",
   "metadata": {
    "colab_type": "text",
    "id": "cZZdBLTSiFhl"
   },
   "source": [
    "1. Apply the `regsubsets` function from the `leaps` package to perform the best subset selection task. \n",
    "\n",
    "**Note:** Set the optimal parameter (nvmax) to 12, representing the total number of variables of the Boston housing data set. Also set the dependent variable as ***medv***. The name of the data is \"house\". \n",
    "\n",
    "Once this has been done, an object containing the summary can be created, and then print out the R-squared and adjusted R-squared statistics for the model."
   ]
  },
  {
   "cell_type": "code",
   "execution_count": 18,
   "metadata": {
    "colab": {},
    "colab_type": "code",
    "deletable": false,
    "id": "An5se2HDhAH8",
    "nbgrader": {
     "cell_type": "code",
     "checksum": "deb6d36e5446f8ee34d3a109dc30b057",
     "grade": true,
     "grade_id": "cell-907ccff91df788e8",
     "locked": false,
     "points": 0,
     "schema_version": 3,
     "solution": true,
     "task": false
    },
    "outputId": "6b9bad87-4ada-44e1-cc6c-47e329992db9"
   },
   "outputs": [
    {
     "data": {
      "text/html": [
       "<style>\n",
       ".list-inline {list-style: none; margin:0; padding: 0}\n",
       ".list-inline>li {display: inline-block}\n",
       ".list-inline>li:not(:last-child)::after {content: \"\\00b7\"; padding: 0 .5ex}\n",
       "</style>\n",
       "<ol class=list-inline><li>'which'</li><li>'rsq'</li><li>'rss'</li><li>'adjr2'</li><li>'cp'</li><li>'bic'</li><li>'outmat'</li><li>'obj'</li></ol>\n"
      ],
      "text/latex": [
       "\\begin{enumerate*}\n",
       "\\item 'which'\n",
       "\\item 'rsq'\n",
       "\\item 'rss'\n",
       "\\item 'adjr2'\n",
       "\\item 'cp'\n",
       "\\item 'bic'\n",
       "\\item 'outmat'\n",
       "\\item 'obj'\n",
       "\\end{enumerate*}\n"
      ],
      "text/markdown": [
       "1. 'which'\n",
       "2. 'rsq'\n",
       "3. 'rss'\n",
       "4. 'adjr2'\n",
       "5. 'cp'\n",
       "6. 'bic'\n",
       "7. 'outmat'\n",
       "8. 'obj'\n",
       "\n",
       "\n"
      ],
      "text/plain": [
       "[1] \"which\"  \"rsq\"    \"rss\"    \"adjr2\"  \"cp\"     \"bic\"    \"outmat\" \"obj\"   "
      ]
     },
     "metadata": {},
     "output_type": "display_data"
    },
    {
     "data": {
      "text/html": [
       "<style>\n",
       ".list-inline {list-style: none; margin:0; padding: 0}\n",
       ".list-inline>li {display: inline-block}\n",
       ".list-inline>li:not(:last-child)::after {content: \"\\00b7\"; padding: 0 .5ex}\n",
       "</style>\n",
       "<ol class=list-inline><li>0.54414629758648</li><li>0.638561606260341</li><li>0.678624160161311</li><li>0.690307701684254</li><li>0.708089289352966</li><li>0.715774211739608</li><li>0.719623002372334</li><li>0.723623857696406</li><li>0.728291096689126</li><li>0.734242251838249</li><li>0.734281732643345</li><li>0.734307043761308</li></ol>\n"
      ],
      "text/latex": [
       "\\begin{enumerate*}\n",
       "\\item 0.54414629758648\n",
       "\\item 0.638561606260341\n",
       "\\item 0.678624160161311\n",
       "\\item 0.690307701684254\n",
       "\\item 0.708089289352966\n",
       "\\item 0.715774211739608\n",
       "\\item 0.719623002372334\n",
       "\\item 0.723623857696406\n",
       "\\item 0.728291096689126\n",
       "\\item 0.734242251838249\n",
       "\\item 0.734281732643345\n",
       "\\item 0.734307043761308\n",
       "\\end{enumerate*}\n"
      ],
      "text/markdown": [
       "1. 0.54414629758648\n",
       "2. 0.638561606260341\n",
       "3. 0.678624160161311\n",
       "4. 0.690307701684254\n",
       "5. 0.708089289352966\n",
       "6. 0.715774211739608\n",
       "7. 0.719623002372334\n",
       "8. 0.723623857696406\n",
       "9. 0.728291096689126\n",
       "10. 0.734242251838249\n",
       "11. 0.734281732643345\n",
       "12. 0.734307043761308\n",
       "\n",
       "\n"
      ],
      "text/plain": [
       " [1] 0.5441463 0.6385616 0.6786242 0.6903077 0.7080893 0.7157742 0.7196230\n",
       " [8] 0.7236239 0.7282911 0.7342423 0.7342817 0.7343070"
      ]
     },
     "metadata": {},
     "output_type": "display_data"
    },
    {
     "data": {
      "text/html": [
       "<style>\n",
       ".list-inline {list-style: none; margin:0; padding: 0}\n",
       ".list-inline>li {display: inline-block}\n",
       ".list-inline>li:not(:last-child)::after {content: \"\\00b7\"; padding: 0 .5ex}\n",
       "</style>\n",
       "<ol class=list-inline><li>0.543241825954707</li><li>0.637124475470124</li><li>0.676703587413271</li><li>0.687835108484128</li><li>0.705170182246496</li><li>0.712356667191387</li><li>0.715681960237005</li><li>0.719175147156307</li><li>0.723360894814534</li><li>0.728873408441042</li><li>0.728364929119209</li><li>0.727839872412698</li></ol>\n"
      ],
      "text/latex": [
       "\\begin{enumerate*}\n",
       "\\item 0.543241825954707\n",
       "\\item 0.637124475470124\n",
       "\\item 0.676703587413271\n",
       "\\item 0.687835108484128\n",
       "\\item 0.705170182246496\n",
       "\\item 0.712356667191387\n",
       "\\item 0.715681960237005\n",
       "\\item 0.719175147156307\n",
       "\\item 0.723360894814534\n",
       "\\item 0.728873408441042\n",
       "\\item 0.728364929119209\n",
       "\\item 0.727839872412698\n",
       "\\end{enumerate*}\n"
      ],
      "text/markdown": [
       "1. 0.543241825954707\n",
       "2. 0.637124475470124\n",
       "3. 0.676703587413271\n",
       "4. 0.687835108484128\n",
       "5. 0.705170182246496\n",
       "6. 0.712356667191387\n",
       "7. 0.715681960237005\n",
       "8. 0.719175147156307\n",
       "9. 0.723360894814534\n",
       "10. 0.728873408441042\n",
       "11. 0.728364929119209\n",
       "12. 0.727839872412698\n",
       "\n",
       "\n"
      ],
      "text/plain": [
       " [1] 0.5432418 0.6371245 0.6767036 0.6878351 0.7051702 0.7123567 0.7156820\n",
       " [8] 0.7191751 0.7233609 0.7288734 0.7283649 0.7278399"
      ]
     },
     "metadata": {},
     "output_type": "display_data"
    }
   ],
   "source": [
    "# Fit regression model and print summary output\n",
    "\n",
    "# YOUR CODE HERE\n",
    "regfit_full = regsubsets(medv~.,house, nvmax = 12)\n",
    "reg_summary = summary(regfit_full)\n",
    "\n",
    "# Review elements available in the summary\n",
    "names(reg_summary)\n",
    "\n",
    "# Review the R-squared and adjusted R-squared outputs\n",
    "reg_summary$rsq\n",
    "reg_summary$adjr2"
   ]
  },
  {
   "cell_type": "markdown",
   "metadata": {
    "colab_type": "text",
    "id": "zaoChwJ3hAIG"
   },
   "source": [
    "__Pause and reflect:__\n",
    "\n",
    "Consider the model that has the highest adjusted R-squared value."
   ]
  },
  {
   "cell_type": "markdown",
   "metadata": {
    "colab_type": "text",
    "id": "SnB69y9MfxBr"
   },
   "source": [
    "2. In order to identify the best model, plot the RSS, adjusted R-squared, Cp, and BIC values for all the models simultaneously using the `par` and `plot` functions."
   ]
  },
  {
   "cell_type": "code",
   "execution_count": 19,
   "metadata": {
    "colab": {},
    "colab_type": "code",
    "deletable": false,
    "id": "HwjJPt_zhAII",
    "nbgrader": {
     "cell_type": "code",
     "checksum": "6f93022b138bc9bf7430f78e1c7547e8",
     "grade": true,
     "grade_id": "cell-bd72b3f3445f6bc9",
     "locked": false,
     "points": 0,
     "schema_version": 3,
     "solution": true,
     "task": false
    },
    "outputId": "f01ae581-f037-4781-fb78-aa0a318ad214"
   },
   "outputs": [
    {
     "data": {
      "text/html": [
       "10"
      ],
      "text/latex": [
       "10"
      ],
      "text/markdown": [
       "10"
      ],
      "text/plain": [
       "[1] 10"
      ]
     },
     "metadata": {},
     "output_type": "display_data"
    },
    {
     "data": {
      "text/html": [
       "10"
      ],
      "text/latex": [
       "10"
      ],
      "text/markdown": [
       "10"
      ],
      "text/plain": [
       "[1] 10"
      ]
     },
     "metadata": {},
     "output_type": "display_data"
    },
    {
     "data": {
      "text/html": [
       "10"
      ],
      "text/latex": [
       "10"
      ],
      "text/markdown": [
       "10"
      ],
      "text/plain": [
       "[1] 10"
      ]
     },
     "metadata": {},
     "output_type": "display_data"
    },
    {
     "data": {
      "image/png": "iVBORw0KGgoAAAANSUhEUgAAA0gAAANICAIAAAByhViMAAAACXBIWXMAABJ0AAASdAHeZh94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\nQmCC",
      "text/plain": [
       "plot without title"
      ]
     },
     "metadata": {
      "image/png": {
       "height": 420,
       "width": 420
      }
     },
     "output_type": "display_data"
    }
   ],
   "source": [
    "# Plot required elements\n",
    "# YOUR CODE HERE\n",
    "par(mfrow=c(2,2))\n",
    "plot(reg_summary$rss, xlab=\"Number of Variables\", ylab=\"RSS\")\n",
    "\n",
    "## Plot adjusted R-squared vs number of variables\n",
    "# YOUR CODE HERE\n",
    "plot(reg_summary$adjr2, xlab=\"Number of Variables\", ylab=\"Adjusted RSq\", type=\"l\")\n",
    "(best_model = which.max(reg_summary$adjr2))\n",
    "points(best_model, reg_summary$adjr2[best_model], col=\"red\", cex=2, pch=20)\n",
    "## In a similar fashion, plot Cp and BIC\n",
    "# YOUR CODE HERE\n",
    "plot(reg_summary$cp, xlab=\"Number of Variables\", ylab=\"Cp\", type=\"l\")\n",
    "(best_model = which.min(reg_summary$cp))\n",
    "points(best_model, reg_summary$cp[best_model], col=\"red\", cex=2, pch=20)\n",
    "\n",
    "plot(reg_summary$bic, xlab=\"Number of Variables\", ylab=\"BIC\", type=\"l\")\n",
    "(best_model = which.min(reg_summary$bic))\n",
    "points(best_model, reg_summary$bic[best_model], col=\"red\", cex=2, pch=20)\n"
   ]
  },
  {
   "cell_type": "markdown",
   "metadata": {
    "colab_type": "text",
    "id": "H3hDvJ-vgnXO"
   },
   "source": [
    "__Pause and reflect:__\n",
    "\n",
    "How many variables should be selected using the different metrics?"
   ]
  },
  {
   "cell_type": "markdown",
   "metadata": {
    "colab_type": "text",
    "id": "WYmHun21hAIO"
   },
   "source": [
    "3. Use the `regsubsets` function's built-in plot command to display the selected variables for the best model with a given number of independent variables."
   ]
  },
  {
   "cell_type": "code",
   "execution_count": 20,
   "metadata": {
    "colab": {},
    "colab_type": "code",
    "deletable": false,
    "id": "jRmsd7e1hAIP",
    "nbgrader": {
     "cell_type": "code",
     "checksum": "564d44f6eb11b3ecb862759cc6ef86bb",
     "grade": true,
     "grade_id": "cell-5af43fe8abc856ba",
     "locked": false,
     "points": 0,
     "schema_version": 3,
     "solution": true,
     "task": false
    },
    "outputId": "7cf9130d-c675-44c6-e596-b133f0718f77"
   },
   "outputs": [
    {
     "data": {
      "image/png": "iVBORw0KGgoAAAANSUhEUgAAA0gAAANICAMAAADKOT/pAAAC91BMVEUAAAABAQECAgIDAwME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",
      "text/plain": [
       "plot without title"
      ]
     },
     "metadata": {
      "image/png": {
       "height": 420,
       "width": 420
      }
     },
     "output_type": "display_data"
    }
   ],
   "source": [
    "# Plot using regsubsets's built-in plot function\n",
    "par(mfrow=c(2,2))\n",
    "# YOUR CODE HERE\n",
    "plot(regfit_full, scale=\"r2\")\n",
    "plot(regfit_full, scale=\"adjr2\")\n",
    "plot(regfit_full, scale=\"Cp\")\n",
    "plot(regfit_full, scale=\"bic\")"
   ]
  },
  {
   "cell_type": "markdown",
   "metadata": {
    "colab_type": "text",
    "id": "dLTZKZccpEv3"
   },
   "source": [
    "__Pause and reflect:__\n",
    "\n",
    "Based on the plots generated above, which variables are considered the most significant for each of the four criteria?"
   ]
  },
  {
   "cell_type": "markdown",
   "metadata": {
    "colab_type": "text",
    "id": "ZfUr1P-hhyMy"
   },
   "source": [
    "4. Use the `coef` function to see the coefficient estimates associated with this model."
   ]
  },
  {
   "cell_type": "code",
   "execution_count": 21,
   "metadata": {
    "colab": {},
    "colab_type": "code",
    "id": "iuwKnQxdhAIV",
    "outputId": "864acd4c-2564-4a19-b498-8d68c4ff74e1"
   },
   "outputs": [
    {
     "data": {
      "text/html": [
       "<style>\n",
       ".dl-inline {width: auto; margin:0; padding: 0}\n",
       ".dl-inline>dt, .dl-inline>dd {float: none; width: auto; display: inline-block}\n",
       ".dl-inline>dt::after {content: \":\\0020\"; padding-right: .5ex}\n",
       ".dl-inline>dt:not(:first-of-type) {padding-left: .5ex}\n",
       "</style><dl class=dl-inline><dt>(Intercept)</dt><dd>41.4517474779034</dd><dt>crim</dt><dd>-0.121664882595831</dd><dt>zn</dt><dd>0.0461911865796742</dd><dt>chas</dt><dd>2.87187264655048</dd><dt>nox</dt><dd>-18.2624266393636</dd><dt>rm</dt><dd>3.67295746579644</dd><dt>dis</dt><dd>-1.51595105051283</dd><dt>rad</dt><dd>0.283932258611199</dd><dt>tax</dt><dd>-0.0122915000015806</dd><dt>ptratio</dt><dd>-0.930961442028079</dd><dt>lstat</dt><dd>-0.546509162452881</dd></dl>\n"
      ],
      "text/latex": [
       "\\begin{description*}\n",
       "\\item[(Intercept)] 41.4517474779034\n",
       "\\item[crim] -0.121664882595831\n",
       "\\item[zn] 0.0461911865796742\n",
       "\\item[chas] 2.87187264655048\n",
       "\\item[nox] -18.2624266393636\n",
       "\\item[rm] 3.67295746579644\n",
       "\\item[dis] -1.51595105051283\n",
       "\\item[rad] 0.283932258611199\n",
       "\\item[tax] -0.0122915000015806\n",
       "\\item[ptratio] -0.930961442028079\n",
       "\\item[lstat] -0.546509162452881\n",
       "\\end{description*}\n"
      ],
      "text/markdown": [
       "(Intercept)\n",
       ":   41.4517474779034crim\n",
       ":   -0.121664882595831zn\n",
       ":   0.0461911865796742chas\n",
       ":   2.87187264655048nox\n",
       ":   -18.2624266393636rm\n",
       ":   3.67295746579644dis\n",
       ":   -1.51595105051283rad\n",
       ":   0.283932258611199tax\n",
       ":   -0.0122915000015806ptratio\n",
       ":   -0.930961442028079lstat\n",
       ":   -0.546509162452881\n",
       "\n"
      ],
      "text/plain": [
       " (Intercept)         crim           zn         chas          nox           rm \n",
       " 41.45174748  -0.12166488   0.04619119   2.87187265 -18.26242664   3.67295747 \n",
       "         dis          rad          tax      ptratio        lstat \n",
       " -1.51595105   0.28393226  -0.01229150  -0.93096144  -0.54650916 "
      ]
     },
     "metadata": {},
     "output_type": "display_data"
    }
   ],
   "source": [
    "# Print the coefficients\n",
    "coef(regfit_full, id = 10)"
   ]
  },
  {
   "cell_type": "markdown",
   "metadata": {
    "colab_type": "text",
    "id": "6kgHAsAhhAIb"
   },
   "source": [
    "In the next section, apply forward and backward stepwise selection to the Boston housing data set."
   ]
  },
  {
   "cell_type": "markdown",
   "metadata": {
    "colab_type": "text",
    "id": "BOFpabHkphS6"
   },
   "source": [
    "#### Section B: Stepwise selection"
   ]
  },
  {
   "cell_type": "markdown",
   "metadata": {
    "colab_type": "text",
    "id": "-wKqTSgvhAIc"
   },
   "source": [
    "1. Use the `regsubsets` function to perform forward stepwise selection, print the summary, and plot the output.\n",
    "\n",
    "**Note:** As a result of variable selection applied in the previous step, only 10 variables are retained. Update the nvmax parameter to 10 based on the output from the previous section."
   ]
  },
  {
   "cell_type": "code",
   "execution_count": 22,
   "metadata": {
    "colab": {},
    "colab_type": "code",
    "deletable": false,
    "id": "BT2B7z-YhAId",
    "nbgrader": {
     "cell_type": "code",
     "checksum": "134a06af5cbc0aba6ee0ddfe1efa2dae",
     "grade": true,
     "grade_id": "cell-25c7697b674da14a",
     "locked": false,
     "points": 0,
     "schema_version": 3,
     "solution": true,
     "task": false
    },
    "outputId": "d010deb9-b9a7-4976-a3d2-7443813faa04"
   },
   "outputs": [
    {
     "data": {
      "text/plain": [
       "Subset selection object\n",
       "Call: regsubsets.formula(medv ~ ., data = house, nvmax = 10, method = \"forward\")\n",
       "12 Variables  (and intercept)\n",
       "        Forced in Forced out\n",
       "crim        FALSE      FALSE\n",
       "zn          FALSE      FALSE\n",
       "indus       FALSE      FALSE\n",
       "chas        FALSE      FALSE\n",
       "nox         FALSE      FALSE\n",
       "rm          FALSE      FALSE\n",
       "age         FALSE      FALSE\n",
       "dis         FALSE      FALSE\n",
       "rad         FALSE      FALSE\n",
       "tax         FALSE      FALSE\n",
       "ptratio     FALSE      FALSE\n",
       "lstat       FALSE      FALSE\n",
       "1 subsets of each size up to 10\n",
       "Selection Algorithm: forward\n",
       "          crim zn  indus chas nox rm  age dis rad tax ptratio lstat\n",
       "1  ( 1 )  \" \"  \" \" \" \"   \" \"  \" \" \" \" \" \" \" \" \" \" \" \" \" \"     \"*\"  \n",
       "2  ( 1 )  \" \"  \" \" \" \"   \" \"  \" \" \"*\" \" \" \" \" \" \" \" \" \" \"     \"*\"  \n",
       "3  ( 1 )  \" \"  \" \" \" \"   \" \"  \" \" \"*\" \" \" \" \" \" \" \" \" \"*\"     \"*\"  \n",
       "4  ( 1 )  \" \"  \" \" \" \"   \" \"  \" \" \"*\" \" \" \"*\" \" \" \" \" \"*\"     \"*\"  \n",
       "5  ( 1 )  \" \"  \" \" \" \"   \" \"  \"*\" \"*\" \" \" \"*\" \" \" \" \" \"*\"     \"*\"  \n",
       "6  ( 1 )  \" \"  \" \" \" \"   \"*\"  \"*\" \"*\" \" \" \"*\" \" \" \" \" \"*\"     \"*\"  \n",
       "7  ( 1 )  \" \"  \"*\" \" \"   \"*\"  \"*\" \"*\" \" \" \"*\" \" \" \" \" \"*\"     \"*\"  \n",
       "8  ( 1 )  \"*\"  \"*\" \" \"   \"*\"  \"*\" \"*\" \" \" \"*\" \" \" \" \" \"*\"     \"*\"  \n",
       "9  ( 1 )  \"*\"  \"*\" \" \"   \"*\"  \"*\" \"*\" \" \" \"*\" \"*\" \" \" \"*\"     \"*\"  \n",
       "10  ( 1 ) \"*\"  \"*\" \" \"   \"*\"  \"*\" \"*\" \" \" \"*\" \"*\" \"*\" \"*\"     \"*\"  "
      ]
     },
     "metadata": {},
     "output_type": "display_data"
    },
    {
     "data": {
      "image/png": "iVBORw0KGgoAAAANSUhEUgAAA0gAAANICAMAAADKOT/pAAAC/VBMVEUAAAABAQECAgIDAwME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\nRU5ErkJggg==",
      "text/plain": [
       "plot without title"
      ]
     },
     "metadata": {
      "image/png": {
       "height": 420,
       "width": 420
      }
     },
     "output_type": "display_data"
    }
   ],
   "source": [
    "# Use regsubsets to perform FSS\n",
    "# YOUR CODE HERE\n",
    "regfit_fwd = regsubsets(medv ~ .,\n",
    "                        data = house,\n",
    "                        nvmax = 10,\n",
    "                        method = \"forward\")\n",
    "\n",
    "# Print the summary\n",
    "# YOUR CODE HERE\n",
    "summary(regfit_fwd)\n",
    "\n",
    "# Plot the output\n",
    "# YOUR CODE HERE\n",
    "par(mfrow = c(2, 2))\n",
    "plot(regfit_fwd, scale = \"r2\")\n",
    "plot(regfit_fwd, scale = \"adjr2\")\n",
    "plot(regfit_fwd, scale = \"Cp\")\n",
    "plot(regfit_fwd, scale = \"bic\")"
   ]
  },
  {
   "cell_type": "markdown",
   "metadata": {
    "colab_type": "text",
    "id": "kMqmsmS5jTag"
   },
   "source": [
    "The steps above are duplicated to perform backward stepwise selection.\n",
    "\n",
    "2. Use the `regsubsets` function to perform BSS, print the summary, and plot the output."
   ]
  },
  {
   "cell_type": "code",
   "execution_count": 23,
   "metadata": {
    "colab": {},
    "colab_type": "code",
    "id": "KPcqCnf_hAIh",
    "outputId": "ed0b6b04-16ad-4c9c-c954-9cb63bb5e438"
   },
   "outputs": [
    {
     "data": {
      "text/plain": [
       "Subset selection object\n",
       "Call: regsubsets.formula(medv ~ ., data = house, nvmax = 10, method = \"backward\")\n",
       "12 Variables  (and intercept)\n",
       "        Forced in Forced out\n",
       "crim        FALSE      FALSE\n",
       "zn          FALSE      FALSE\n",
       "indus       FALSE      FALSE\n",
       "chas        FALSE      FALSE\n",
       "nox         FALSE      FALSE\n",
       "rm          FALSE      FALSE\n",
       "age         FALSE      FALSE\n",
       "dis         FALSE      FALSE\n",
       "rad         FALSE      FALSE\n",
       "tax         FALSE      FALSE\n",
       "ptratio     FALSE      FALSE\n",
       "lstat       FALSE      FALSE\n",
       "1 subsets of each size up to 10\n",
       "Selection Algorithm: backward\n",
       "          crim zn  indus chas nox rm  age dis rad tax ptratio lstat\n",
       "1  ( 1 )  \" \"  \" \" \" \"   \" \"  \" \" \" \" \" \" \" \" \" \" \" \" \" \"     \"*\"  \n",
       "2  ( 1 )  \" \"  \" \" \" \"   \" \"  \" \" \"*\" \" \" \" \" \" \" \" \" \" \"     \"*\"  \n",
       "3  ( 1 )  \" \"  \" \" \" \"   \" \"  \" \" \"*\" \" \" \" \" \" \" \" \" \"*\"     \"*\"  \n",
       "4  ( 1 )  \" \"  \" \" \" \"   \" \"  \" \" \"*\" \" \" \"*\" \" \" \" \" \"*\"     \"*\"  \n",
       "5  ( 1 )  \" \"  \" \" \" \"   \" \"  \"*\" \"*\" \" \" \"*\" \" \" \" \" \"*\"     \"*\"  \n",
       "6  ( 1 )  \"*\"  \" \" \" \"   \" \"  \"*\" \"*\" \" \" \"*\" \" \" \" \" \"*\"     \"*\"  \n",
       "7  ( 1 )  \"*\"  \" \" \" \"   \" \"  \"*\" \"*\" \" \" \"*\" \"*\" \" \" \"*\"     \"*\"  \n",
       "8  ( 1 )  \"*\"  \" \" \" \"   \" \"  \"*\" \"*\" \" \" \"*\" \"*\" \"*\" \"*\"     \"*\"  \n",
       "9  ( 1 )  \"*\"  \"*\" \" \"   \" \"  \"*\" \"*\" \" \" \"*\" \"*\" \"*\" \"*\"     \"*\"  \n",
       "10  ( 1 ) \"*\"  \"*\" \" \"   \"*\"  \"*\" \"*\" \" \" \"*\" \"*\" \"*\" \"*\"     \"*\"  "
      ]
     },
     "metadata": {},
     "output_type": "display_data"
    },
    {
     "data": {
      "image/png": "iVBORw0KGgoAAAANSUhEUgAAA0gAAANICAMAAADKOT/pAAAC/VBMVEUAAAABAQECAgIDAwME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",
      "text/plain": [
       "plot without title"
      ]
     },
     "metadata": {
      "image/png": {
       "height": 420,
       "width": 420
      }
     },
     "output_type": "display_data"
    }
   ],
   "source": [
    "# Use regsubsets to perform BSS\n",
    "regfit_bwd = regsubsets(medv ~ .,\n",
    "                        data = house,\n",
    "                        nvmax = 10,\n",
    "                        method = \"backward\")\n",
    "\n",
    "# Print the summary\n",
    "summary(regfit_bwd)\n",
    "\n",
    "# Plot the output\n",
    "par(mfrow = c(2, 2))\n",
    "plot(regfit_bwd, scale = \"r2\")\n",
    "plot(regfit_bwd, scale = \"adjr2\")\n",
    "plot(regfit_bwd, scale = \"Cp\")\n",
    "plot(regfit_bwd, scale = \"bic\")"
   ]
  },
  {
   "cell_type": "markdown",
   "metadata": {
    "colab_type": "text",
    "id": "yu3ysEXfjlfR"
   },
   "source": [
    "__Pause and reflect:__\n",
    "\n",
    "How do the FSS and BSS outputs differ in terms of the significant variables identified? "
   ]
  },
  {
   "cell_type": "markdown",
   "metadata": {
    "colab_type": "text",
    "id": "RJZkG2IBhAIl"
   },
   "source": [
    "3. Review the coefficient estimates associated with the models using different approaches. Print the outputs of the following variable selection methods:\n",
    "- Best subset selection\n",
    "- Forward stepwise selection \n",
    "- Backward stepwise selection\n",
    "\n",
    "**Note:** Set the model to 10 variables."
   ]
  },
  {
   "cell_type": "code",
   "execution_count": 24,
   "metadata": {
    "colab": {},
    "colab_type": "code",
    "deletable": false,
    "id": "Qd_-Qr7VhAIm",
    "nbgrader": {
     "cell_type": "code",
     "checksum": "605984368d77d20b1f594f1730e55bc9",
     "grade": true,
     "grade_id": "cell-2bce0c6622a2813b",
     "locked": false,
     "points": 0,
     "schema_version": 3,
     "solution": true,
     "task": false
    },
    "outputId": "03eaef18-bc49-4263-84a0-ede9304ea1b2"
   },
   "outputs": [
    {
     "data": {
      "text/html": [
       "<style>\n",
       ".dl-inline {width: auto; margin:0; padding: 0}\n",
       ".dl-inline>dt, .dl-inline>dd {float: none; width: auto; display: inline-block}\n",
       ".dl-inline>dt::after {content: \":\\0020\"; padding-right: .5ex}\n",
       ".dl-inline>dt:not(:first-of-type) {padding-left: .5ex}\n",
       "</style><dl class=dl-inline><dt>(Intercept)</dt><dd>41.4517474779034</dd><dt>crim</dt><dd>-0.121664882595831</dd><dt>zn</dt><dd>0.0461911865796742</dd><dt>chas</dt><dd>2.87187264655048</dd><dt>nox</dt><dd>-18.2624266393636</dd><dt>rm</dt><dd>3.67295746579644</dd><dt>dis</dt><dd>-1.51595105051283</dd><dt>rad</dt><dd>0.283932258611199</dd><dt>tax</dt><dd>-0.0122915000015806</dd><dt>ptratio</dt><dd>-0.930961442028079</dd><dt>lstat</dt><dd>-0.546509162452881</dd></dl>\n"
      ],
      "text/latex": [
       "\\begin{description*}\n",
       "\\item[(Intercept)] 41.4517474779034\n",
       "\\item[crim] -0.121664882595831\n",
       "\\item[zn] 0.0461911865796742\n",
       "\\item[chas] 2.87187264655048\n",
       "\\item[nox] -18.2624266393636\n",
       "\\item[rm] 3.67295746579644\n",
       "\\item[dis] -1.51595105051283\n",
       "\\item[rad] 0.283932258611199\n",
       "\\item[tax] -0.0122915000015806\n",
       "\\item[ptratio] -0.930961442028079\n",
       "\\item[lstat] -0.546509162452881\n",
       "\\end{description*}\n"
      ],
      "text/markdown": [
       "(Intercept)\n",
       ":   41.4517474779034crim\n",
       ":   -0.121664882595831zn\n",
       ":   0.0461911865796742chas\n",
       ":   2.87187264655048nox\n",
       ":   -18.2624266393636rm\n",
       ":   3.67295746579644dis\n",
       ":   -1.51595105051283rad\n",
       ":   0.283932258611199tax\n",
       ":   -0.0122915000015806ptratio\n",
       ":   -0.930961442028079lstat\n",
       ":   -0.546509162452881\n",
       "\n"
      ],
      "text/plain": [
       " (Intercept)         crim           zn         chas          nox           rm \n",
       " 41.45174748  -0.12166488   0.04619119   2.87187265 -18.26242664   3.67295747 \n",
       "         dis          rad          tax      ptratio        lstat \n",
       " -1.51595105   0.28393226  -0.01229150  -0.93096144  -0.54650916 "
      ]
     },
     "metadata": {},
     "output_type": "display_data"
    },
    {
     "data": {
      "text/html": [
       "<style>\n",
       ".dl-inline {width: auto; margin:0; padding: 0}\n",
       ".dl-inline>dt, .dl-inline>dd {float: none; width: auto; display: inline-block}\n",
       ".dl-inline>dt::after {content: \":\\0020\"; padding-right: .5ex}\n",
       ".dl-inline>dt:not(:first-of-type) {padding-left: .5ex}\n",
       "</style><dl class=dl-inline><dt>(Intercept)</dt><dd>41.4517474779034</dd><dt>crim</dt><dd>-0.121664882595831</dd><dt>zn</dt><dd>0.046191186579674</dd><dt>chas</dt><dd>2.87187264655048</dd><dt>nox</dt><dd>-18.2624266393636</dd><dt>rm</dt><dd>3.67295746579644</dd><dt>dis</dt><dd>-1.51595105051283</dd><dt>rad</dt><dd>0.283932258611198</dd><dt>tax</dt><dd>-0.0122915000015806</dd><dt>ptratio</dt><dd>-0.930961442028081</dd><dt>lstat</dt><dd>-0.546509162452882</dd></dl>\n"
      ],
      "text/latex": [
       "\\begin{description*}\n",
       "\\item[(Intercept)] 41.4517474779034\n",
       "\\item[crim] -0.121664882595831\n",
       "\\item[zn] 0.046191186579674\n",
       "\\item[chas] 2.87187264655048\n",
       "\\item[nox] -18.2624266393636\n",
       "\\item[rm] 3.67295746579644\n",
       "\\item[dis] -1.51595105051283\n",
       "\\item[rad] 0.283932258611198\n",
       "\\item[tax] -0.0122915000015806\n",
       "\\item[ptratio] -0.930961442028081\n",
       "\\item[lstat] -0.546509162452882\n",
       "\\end{description*}\n"
      ],
      "text/markdown": [
       "(Intercept)\n",
       ":   41.4517474779034crim\n",
       ":   -0.121664882595831zn\n",
       ":   0.046191186579674chas\n",
       ":   2.87187264655048nox\n",
       ":   -18.2624266393636rm\n",
       ":   3.67295746579644dis\n",
       ":   -1.51595105051283rad\n",
       ":   0.283932258611198tax\n",
       ":   -0.0122915000015806ptratio\n",
       ":   -0.930961442028081lstat\n",
       ":   -0.546509162452882\n",
       "\n"
      ],
      "text/plain": [
       " (Intercept)         crim           zn         chas          nox           rm \n",
       " 41.45174748  -0.12166488   0.04619119   2.87187265 -18.26242664   3.67295747 \n",
       "         dis          rad          tax      ptratio        lstat \n",
       " -1.51595105   0.28393226  -0.01229150  -0.93096144  -0.54650916 "
      ]
     },
     "metadata": {},
     "output_type": "display_data"
    },
    {
     "data": {
      "text/html": [
       "<style>\n",
       ".dl-inline {width: auto; margin:0; padding: 0}\n",
       ".dl-inline>dt, .dl-inline>dd {float: none; width: auto; display: inline-block}\n",
       ".dl-inline>dt::after {content: \":\\0020\"; padding-right: .5ex}\n",
       ".dl-inline>dt:not(:first-of-type) {padding-left: .5ex}\n",
       "</style><dl class=dl-inline><dt>(Intercept)</dt><dd>41.4517474779034</dd><dt>crim</dt><dd>-0.121664882595831</dd><dt>zn</dt><dd>0.046191186579674</dd><dt>chas</dt><dd>2.87187264655048</dd><dt>nox</dt><dd>-18.2624266393636</dd><dt>rm</dt><dd>3.67295746579644</dd><dt>dis</dt><dd>-1.51595105051283</dd><dt>rad</dt><dd>0.283932258611198</dd><dt>tax</dt><dd>-0.0122915000015806</dd><dt>ptratio</dt><dd>-0.930961442028081</dd><dt>lstat</dt><dd>-0.546509162452882</dd></dl>\n"
      ],
      "text/latex": [
       "\\begin{description*}\n",
       "\\item[(Intercept)] 41.4517474779034\n",
       "\\item[crim] -0.121664882595831\n",
       "\\item[zn] 0.046191186579674\n",
       "\\item[chas] 2.87187264655048\n",
       "\\item[nox] -18.2624266393636\n",
       "\\item[rm] 3.67295746579644\n",
       "\\item[dis] -1.51595105051283\n",
       "\\item[rad] 0.283932258611198\n",
       "\\item[tax] -0.0122915000015806\n",
       "\\item[ptratio] -0.930961442028081\n",
       "\\item[lstat] -0.546509162452882\n",
       "\\end{description*}\n"
      ],
      "text/markdown": [
       "(Intercept)\n",
       ":   41.4517474779034crim\n",
       ":   -0.121664882595831zn\n",
       ":   0.046191186579674chas\n",
       ":   2.87187264655048nox\n",
       ":   -18.2624266393636rm\n",
       ":   3.67295746579644dis\n",
       ":   -1.51595105051283rad\n",
       ":   0.283932258611198tax\n",
       ":   -0.0122915000015806ptratio\n",
       ":   -0.930961442028081lstat\n",
       ":   -0.546509162452882\n",
       "\n"
      ],
      "text/plain": [
       " (Intercept)         crim           zn         chas          nox           rm \n",
       " 41.45174748  -0.12166488   0.04619119   2.87187265 -18.26242664   3.67295747 \n",
       "         dis          rad          tax      ptratio        lstat \n",
       " -1.51595105   0.28393226  -0.01229150  -0.93096144  -0.54650916 "
      ]
     },
     "metadata": {},
     "output_type": "display_data"
    }
   ],
   "source": [
    "# Review coefficient outputs for the models\n",
    "# YOUR CODE HERE\n",
    "# Review coefficient outputs for our models\n",
    "coef(regfit_full, 10)\n",
    "coef(regfit_fwd, 10)\n",
    "coef(regfit_bwd, 10)"
   ]
  },
  {
   "cell_type": "markdown",
   "metadata": {
    "colab_type": "text",
    "id": "A1gNvL6ORkSp"
   },
   "source": [
    "**Note:** Remember to submit this IDE notebook after completion and navigate back to the component on the Online Campus to complete the second part of this assessment where you have the opportunity to share your thoughts and reflections regarding the output of this notebook with your peers in the class-wide discussion forum."
   ]
  }
 ],
 "metadata": {
  "colab": {
   "collapsed_sections": [],
   "name": "LSE MNL M4U1 IDE Activity notebook (assessment)_v13_BL.ipynb",
   "provenance": []
  },
  "kernelspec": {
   "display_name": "LSE-MNL-R",
   "language": "R",
   "name": "lse-mnl-r"
  },
  "language_info": {
   "codemirror_mode": "r",
   "file_extension": ".r",
   "mimetype": "text/x-r-source",
   "name": "R",
   "pygments_lexer": "r",
   "version": "3.6.3"
  }
 },
 "nbformat": 4,
 "nbformat_minor": 1
}
